{
  "cells": [
    {
      "cell_type": "markdown",
      "metadata": {
        "id": "x04bF9rLKVJj"
      },
      "source": [
        "<div class=\"alert alert-block alert-info\">\n",
        "<span style=\"color: rgb(0,53,91);\">\n",
        "<center><img src=\"https://oci02.img.iteso.mx/Identidades-De-Instancia/ITESO/Logos%20ITESO/Logo-ITESO-Principal-SinFondo.png\" style=\"width:500px;height:142px;\" title=\"Logo ITESO\"></center>\n",
        "<font face = \"Times New Roman\" size = \"6\"><b><center>Examen III</center></b></font>\n",
        "<font face = \"Times New Roman\" size = \"5\"><b><center>Laboratorio de procesamiento de datos</center></b></font>\n",
        "<br>\n",
        "<!-- <br> -->\n",
        "\n",
        "\n",
        "<b><font face = \"Times New Roman\" size = \"4\"><center> </center></font>\n",
        "<!-- <font face = \"Times New Roman\" size = \"4\"><center>Subtema c: x</center></font></b> -->\n",
        "<div align=\"right\"><font face = \"Times New Roman\" size = \"2\">Ubaldo Neri</font></div>\n",
        "<div align=\"right\"><font face = \"Times New Roman\" size = \"2\">Eduardo Martínez</font></div>\n",
        "<div align=\"right\"><font face = \"Times New Roman\" size = \"2\">Demien Becerra</font></div>\n",
        "</span></div>"
      ]
    },
    {
      "cell_type": "markdown",
      "metadata": {},
      "source": [
        "### Instrucciones\n",
        "\n",
        "A continuación los pasos a realizar. Lee con atención  y responde en tu notebook lo que se pide: \n",
        "\n",
        "1. Tomar el dataset dado.\n",
        "2. Hacer un análisis descriptivo y agrupado de los datos. De este punto se espera que el alumno identifique las carencias de la base (información faltante y/o mal presentada) así como el potencial de las variables predictoras hacia la variable de respuesta (`client_stayed`).\n",
        "    - Este punto trata de analizar el estado en el cual se recibe el conjunto de datos **y explicarlo de manera somera pero con gráficos/tablas que soporten conclusiones preliminares**.\n",
        "        - Nota: Solamente nombrar columnas o decir que hay X números NO es un análisis descriptivo EDA.\n",
        "    - Hacer análisis cruzados: Análisis entre varias variables y no solo de manera individual. **Se espera que hagas estos análisis y expliques qué se hace y qué observas en cada uno**.\n",
        "3. Preprocesar los datos.\n",
        "    - Se espera que se limpien y/o estandaricen según sea necesario en este punto del proceso.\n",
        "    - Rellenar información faltante.\n",
        "      - Explicar el porqué del método elegido.\n",
        "      - Evaluar los impactos en el conjunto de datos del método elegido. Responder:\n",
        "          - ¿La variable después de rellenar cambió su distribución de alguna forma?\n",
        "          - ¿Cambiaron estadísticos como el promedio y la desviación estándar de la variable?\n",
        "          - ¿Cambió la correlación de la variable con la variable objetivo?\n",
        "    - Generar un proceso de feature engineering.\n",
        "        - Crear nuevas variables a partir de las existentes Se deben de crear al menos 5 variables y agregarlas al DataFrame para poder hacer los análisis subsecuentes. Para cada variable creada responder: \n",
        "            - ¿Cuál es tu hipótesis? ¿Por qué esa variable puede servir?\n",
        "            - Después de observar el potencial de la variable explica su comportamiento. ¿Qué observas de tu variable al ser comparada con la variable de respuesta?\n",
        "        - **Se debe de cuidar que no haya leakage en ninguna de las variables producidas**.\n",
        "    - Generar un proceso de selección de variables.\n",
        "        - Se debe de escoger entre al menos una de las siguientes opciones:\n",
        "            - Varianza.\n",
        "            - Correlaciones.\n",
        "            - Coeficientes de una regresión logística.\n",
        "        - Responder:\n",
        "            - ¿Cómo se implementó el método utilizado? \n",
        "            - ¿Por qué se escogió este método?\n",
        "            - ¿Qué variables se van a seleccionar con el método?\n",
        "            - ¿**Cómo puedo demostrar** que las variables elegidas son mejores que las no elegidas?\n",
        "            - ¿Algunas de las variables generadas con el punto b quedaron elegidas? ¿Por qué?\n"
      ]
    },
    {
      "cell_type": "markdown",
      "metadata": {},
      "source": [
        "### Variables\n",
        "\n",
        "A continuación se adjunta una descripción breve de las variables y de su contenido.\n",
        "\n",
        "1. `Clientnum`: Id único para el cliente.\n",
        "\n",
        "2. `Client_stayed`: **Variable de respuesta**. Es 1 si el cliente sigue con el banco o 0 si el cliente decidió dejar de ser cliente.\n",
        "\n",
        "3. `Customer_age`: Edad del cliente medida en años.\n",
        "\n",
        "4. `Gender`: Género del cliente. `M` para hombres y `F` para mujeres.\n",
        "\n",
        "5. `Dependent_count`: Número de dependientes económicos del cliente.\n",
        "\n",
        "6. `Education_level`: Escolaridad del cliente.\n",
        "\n",
        "7. `Marital_status`: Estado civil del cliente.\n",
        "\n",
        "8. `Income_category`: El banco no cuenta con los salarios exactos de los clientes, por lo que esta variable representa un aproximado medio del salario del mismo medido en dólares estadounidenses.\n",
        "\n",
        "9. `Card_category`: Tipo de instrumento de crédito que tiene el cliente.\n",
        "\n",
        "10. `Months_on_book`: Periodo en el que el cliente ha estado activo (desde la activación de su instrumento de crédito).\n",
        "\n",
        "11. `Total_relationship_count`: Número de productos del banco que tiene el cliente. El cliente no está limitado a solo tener su instrumento de crédito, puede tener relación con otras áreas del banco.\n",
        "\n",
        "12. `Months_inactive_12_mon`: Número de meses que el cliente ha dejado de utilizar su instrumento de crédito en los últimos 12 meses.\n",
        "\n",
        "13. `Contacts_count_12_mon`: Número de contactos telefónicos que ha hecho el cliente al banco en los últimos 12 meses.\n",
        "\n",
        "14. `Credit_limit`: Límite del instrumento crediticio medido en dólares estadounidenses.\n",
        "\n",
        "15. `Total_revolving_bal`: Balance total del instrumento crediticio (cantidad a pagar por el cliente).\n",
        "\n",
        "16. `Total_trans_amt`: Dinero transaccionado a través del instrumento crediticio en los últimos 12 meses.\n",
        "\n",
        "17. `Total_trans_ct`: Número de transacciones realizadas a través del instrumento crediticio en los últimos 12 meses.\n",
        "\n"
      ]
    },
    {
      "cell_type": "markdown",
      "metadata": {},
      "source": [
        "### Imports"
      ]
    },
    {
      "cell_type": "code",
      "execution_count": 2,
      "metadata": {
        "id": "pVCe4NXQ_SYB"
      },
      "outputs": [],
      "source": [
        "import os\n",
        "import re\n",
        "import warnings\n",
        "from copy import deepcopy\n",
        "\n",
        "import pandas as pd\n",
        "import numpy as np\n",
        "import matplotlib.pyplot as plt\n",
        "import seaborn as sns\n",
        "\n",
        "plt.style.use('Estilo/toutl.mplstyle')\n",
        "from style import *"
      ]
    },
    {
      "cell_type": "markdown",
      "metadata": {},
      "source": [
        "### Data\n"
      ]
    },
    {
      "cell_type": "code",
      "execution_count": 3,
      "metadata": {
        "colab": {
          "base_uri": "https://localhost:8080/",
          "height": 241
        },
        "id": "4sfRlR0OBIAz",
        "outputId": "3653d512-f224-483a-f9be-430f57fcf56f"
      },
      "outputs": [
        {
          "data": {
            "text/html": [
              "<div>\n",
              "<style scoped>\n",
              "    .dataframe tbody tr th:only-of-type {\n",
              "        vertical-align: middle;\n",
              "    }\n",
              "\n",
              "    .dataframe tbody tr th {\n",
              "        vertical-align: top;\n",
              "    }\n",
              "\n",
              "    .dataframe thead th {\n",
              "        text-align: right;\n",
              "    }\n",
              "</style>\n",
              "<table border=\"1\" class=\"dataframe\">\n",
              "  <thead>\n",
              "    <tr style=\"text-align: right;\">\n",
              "      <th></th>\n",
              "      <th>clientnum</th>\n",
              "      <th>client_stayed</th>\n",
              "      <th>customer_age</th>\n",
              "      <th>gender</th>\n",
              "      <th>dependent_count</th>\n",
              "      <th>education_level</th>\n",
              "      <th>marital_status</th>\n",
              "      <th>income_category</th>\n",
              "      <th>card_category</th>\n",
              "      <th>months_on_book</th>\n",
              "      <th>total_relationship_count</th>\n",
              "      <th>months_inactive_12_mon</th>\n",
              "      <th>contacts_count_12_mon</th>\n",
              "      <th>credit_limit</th>\n",
              "      <th>total_revolving_bal</th>\n",
              "      <th>total_trans_amt</th>\n",
              "      <th>total_trans_ct</th>\n",
              "    </tr>\n",
              "  </thead>\n",
              "  <tbody>\n",
              "    <tr>\n",
              "      <th>0</th>\n",
              "      <td>768805383</td>\n",
              "      <td>1</td>\n",
              "      <td>45</td>\n",
              "      <td>M</td>\n",
              "      <td>3</td>\n",
              "      <td>High School</td>\n",
              "      <td>Married</td>\n",
              "      <td>5833.333333333333</td>\n",
              "      <td>Blue</td>\n",
              "      <td>39</td>\n",
              "      <td>5</td>\n",
              "      <td>1</td>\n",
              "      <td>3</td>\n",
              "      <td>12691.0</td>\n",
              "      <td>777</td>\n",
              "      <td>1144</td>\n",
              "      <td>42</td>\n",
              "    </tr>\n",
              "    <tr>\n",
              "      <th>1</th>\n",
              "      <td>818770008</td>\n",
              "      <td>1</td>\n",
              "      <td>49</td>\n",
              "      <td>F</td>\n",
              "      <td>5</td>\n",
              "      <td>Graduate</td>\n",
              "      <td>Single</td>\n",
              "      <td>1666.6666666666667</td>\n",
              "      <td>Blue</td>\n",
              "      <td>44</td>\n",
              "      <td>6</td>\n",
              "      <td>1</td>\n",
              "      <td>2</td>\n",
              "      <td>8256.0</td>\n",
              "      <td>864</td>\n",
              "      <td>1291</td>\n",
              "      <td>33</td>\n",
              "    </tr>\n",
              "    <tr>\n",
              "      <th>2</th>\n",
              "      <td>713982108</td>\n",
              "      <td>1</td>\n",
              "      <td>51</td>\n",
              "      <td>M</td>\n",
              "      <td>3</td>\n",
              "      <td>Graduate</td>\n",
              "      <td>Married</td>\n",
              "      <td>8333.333333333334</td>\n",
              "      <td>Blue</td>\n",
              "      <td>36</td>\n",
              "      <td>4</td>\n",
              "      <td>1</td>\n",
              "      <td>0</td>\n",
              "      <td>3418.0</td>\n",
              "      <td>0</td>\n",
              "      <td>1887</td>\n",
              "      <td>20</td>\n",
              "    </tr>\n",
              "    <tr>\n",
              "      <th>3</th>\n",
              "      <td>769911858</td>\n",
              "      <td>1</td>\n",
              "      <td>40</td>\n",
              "      <td>F</td>\n",
              "      <td>4</td>\n",
              "      <td>High School</td>\n",
              "      <td>Unknown</td>\n",
              "      <td>1666.6666666666667</td>\n",
              "      <td>Blue</td>\n",
              "      <td>34</td>\n",
              "      <td>3</td>\n",
              "      <td>4</td>\n",
              "      <td>1</td>\n",
              "      <td>3313.0</td>\n",
              "      <td>2517</td>\n",
              "      <td>1171</td>\n",
              "      <td>20</td>\n",
              "    </tr>\n",
              "    <tr>\n",
              "      <th>4</th>\n",
              "      <td>709106358</td>\n",
              "      <td>1</td>\n",
              "      <td>40</td>\n",
              "      <td>M</td>\n",
              "      <td>3</td>\n",
              "      <td>Uneducated</td>\n",
              "      <td>Married</td>\n",
              "      <td>5833.333333333333</td>\n",
              "      <td>Blue</td>\n",
              "      <td>21</td>\n",
              "      <td>5</td>\n",
              "      <td>1</td>\n",
              "      <td>0</td>\n",
              "      <td>4716.0</td>\n",
              "      <td>0</td>\n",
              "      <td>816</td>\n",
              "      <td>28</td>\n",
              "    </tr>\n",
              "  </tbody>\n",
              "</table>\n",
              "</div>"
            ],
            "text/plain": [
              "   clientnum  client_stayed  customer_age gender  dependent_count  \\\n",
              "0  768805383              1            45      M                3   \n",
              "1  818770008              1            49      F                5   \n",
              "2  713982108              1            51      M                3   \n",
              "3  769911858              1            40      F                4   \n",
              "4  709106358              1            40      M                3   \n",
              "\n",
              "  education_level marital_status     income_category card_category  \\\n",
              "0     High School        Married   5833.333333333333          Blue   \n",
              "1        Graduate         Single  1666.6666666666667          Blue   \n",
              "2        Graduate        Married   8333.333333333334          Blue   \n",
              "3     High School        Unknown  1666.6666666666667          Blue   \n",
              "4      Uneducated        Married   5833.333333333333          Blue   \n",
              "\n",
              "   months_on_book  total_relationship_count  months_inactive_12_mon  \\\n",
              "0              39                         5                       1   \n",
              "1              44                         6                       1   \n",
              "2              36                         4                       1   \n",
              "3              34                         3                       4   \n",
              "4              21                         5                       1   \n",
              "\n",
              "   contacts_count_12_mon  credit_limit  total_revolving_bal  total_trans_amt  \\\n",
              "0                      3       12691.0                  777             1144   \n",
              "1                      2        8256.0                  864             1291   \n",
              "2                      0        3418.0                    0             1887   \n",
              "3                      1        3313.0                 2517             1171   \n",
              "4                      0        4716.0                    0              816   \n",
              "\n",
              "   total_trans_ct  \n",
              "0              42  \n",
              "1              33  \n",
              "2              20  \n",
              "3              20  \n",
              "4              28  "
            ]
          },
          "execution_count": 3,
          "metadata": {},
          "output_type": "execute_result"
        }
      ],
      "source": [
        "df=pd.read_csv('Datos/examen3.csv')\n",
        "df.head()"
      ]
    },
    {
      "cell_type": "code",
      "execution_count": 4,
      "metadata": {
        "colab": {
          "base_uri": "https://localhost:8080/"
        },
        "id": "s-P8IwbID8Yu",
        "outputId": "20557c97-ddee-4c9c-e34e-e2fae69f2806"
      },
      "outputs": [
        {
          "data": {
            "text/plain": [
              "(10127, 17)"
            ]
          },
          "execution_count": 4,
          "metadata": {},
          "output_type": "execute_result"
        }
      ],
      "source": [
        "df.shape"
      ]
    },
    {
      "cell_type": "code",
      "execution_count": 5,
      "metadata": {
        "colab": {
          "base_uri": "https://localhost:8080/",
          "height": 335
        },
        "id": "NojG6Q8aEv6o",
        "outputId": "2c3d33a2-99ff-4471-e9ab-bacda4725d75"
      },
      "outputs": [
        {
          "data": {
            "text/plain": [
              "clientnum                     int64\n",
              "client_stayed                 int64\n",
              "customer_age                  int64\n",
              "gender                       object\n",
              "dependent_count               int64\n",
              "education_level              object\n",
              "marital_status               object\n",
              "income_category              object\n",
              "card_category                object\n",
              "months_on_book                int64\n",
              "total_relationship_count      int64\n",
              "months_inactive_12_mon        int64\n",
              "contacts_count_12_mon         int64\n",
              "credit_limit                float64\n",
              "total_revolving_bal           int64\n",
              "total_trans_amt               int64\n",
              "total_trans_ct                int64\n",
              "dtype: object"
            ]
          },
          "execution_count": 5,
          "metadata": {},
          "output_type": "execute_result"
        }
      ],
      "source": [
        "df.dtypes"
      ]
    },
    {
      "cell_type": "code",
      "execution_count": null,
      "metadata": {},
      "outputs": [],
      "source": []
    }
  ],
  "metadata": {
    "colab": {
      "provenance": []
    },
    "kernelspec": {
      "display_name": "Python 3",
      "name": "python3"
    },
    "language_info": {
      "codemirror_mode": {
        "name": "ipython",
        "version": 3
      },
      "file_extension": ".py",
      "mimetype": "text/x-python",
      "name": "python",
      "nbconvert_exporter": "python",
      "pygments_lexer": "ipython3",
      "version": "3.13.2"
    }
  },
  "nbformat": 4,
  "nbformat_minor": 0
}
