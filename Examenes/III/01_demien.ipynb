{
 "cells": [
  {
   "cell_type": "code",
   "execution_count": 430,
   "id": "9009fc81",
   "metadata": {},
   "outputs": [],
   "source": [
    "import os\n",
    "import re\n",
    "import warnings\n",
    "from copy import deepcopy\n",
    "\n",
    "import pandas as pd\n",
    "import numpy as np\n",
    "import seaborn as sns\n",
    "\n",
    "\n",
    "import matplotlib.pyplot as plt\n",
    "\n",
    "plt.style.use('Estilo/toutl.mplstyle')\n",
    "from style import *\n"
   ]
  },
  {
   "cell_type": "code",
   "execution_count": 431,
   "id": "62dbbc79",
   "metadata": {},
   "outputs": [],
   "source": [
    "df = pd.read_csv('Datos/examen3.csv')"
   ]
  },
  {
   "cell_type": "code",
   "execution_count": 432,
   "id": "23f8041e",
   "metadata": {},
   "outputs": [
    {
     "name": "stdout",
     "output_type": "stream",
     "text": [
      "\n",
      "============================================================================================\n",
      "                          REPORTE DE OUTLIERS - ANÁLISIS COMPLETO                           \n",
      "============================================================================================\n",
      "Columna                   Tipo         Outliers        %     L. Inferior     L. Superior\n",
      "--------------------------------------------------------------------------------------------\n",
      "customer_age              int64               2    0.02%           24.50           68.50\n",
      "dependent_count           int64               0    0.00%           -2.00            6.00\n",
      "months_on_book            int64             386    3.81%           17.50           53.50\n",
      "total_relationship_count  int64               0    0.00%            0.00            8.00\n",
      "months_inactive_12_mon    int64             331    3.27%            0.50            4.50\n",
      "contacts_count_12_mon     int64             629    6.21%            0.50            4.50\n",
      "credit_limit              float64           984    9.72%      -10,213.75       23,836.25\n",
      "total_revolving_bal       int64               0    0.00%       -1,778.50        3,921.50\n",
      "total_trans_amt           int64             896    8.85%       -1,722.75        8,619.25\n",
      "total_trans_ct            int64               2    0.02%           -9.00          135.00\n",
      "============================================================================================\n",
      "              Nota: Límites calculados con método IQR (Q1-1.5*IQR, Q3+1.5*IQR)              \n",
      "============================================================================================\n"
     ]
    }
   ],
   "source": [
    "columnas_analizar = df.select_dtypes(include=['int64', 'float64']).drop(columns=['clientnum', 'client_stayed'], errors='ignore').columns.tolist()\n",
    "\n",
    "def generar_reporte_outliers(df, columnas):\n",
    "    # Cabecera del reporte\n",
    "    print(\"\\n\" + \"=\"*92)\n",
    "    print(f\"{'REPORTE DE OUTLIERS - ANÁLISIS COMPLETO':^92}\")\n",
    "    print(\"=\"*92)\n",
    "    print(f\"{'Columna':<25} {'Tipo':<10} {'Outliers':>10} {'%':>8} {'L. Inferior':>15} {'L. Superior':>15}\")\n",
    "    print(\"-\"*92)\n",
    "    \n",
    "    for col in columnas:\n",
    "        # Cálculo de estadísticas\n",
    "        Q1 = df[col].quantile(0.25)\n",
    "        Q3 = df[col].quantile(0.75)\n",
    "        IQR = Q3 - Q1\n",
    "        lim_inf = Q1 - 1.5 * IQR\n",
    "        lim_sup = Q3 + 1.5 * IQR\n",
    "        outliers = df[(df[col] < lim_inf) | (df[col] > lim_sup)]\n",
    "        n_outliers = len(outliers)\n",
    "        pct_outliers = (n_outliers/len(df))*100\n",
    "        \n",
    "        # Formateo de números\n",
    "        str_lim_inf = f\"{lim_inf:,.2f}\" if isinstance(lim_inf, float) else f\"{int(lim_inf):,}\"\n",
    "        str_lim_sup = f\"{lim_sup:,.2f}\" if isinstance(lim_sup, float) else f\"{int(lim_sup):,}\"\n",
    "        \n",
    "        # Impresión formateada\n",
    "        print(f\"{col:<25} {str(df[col].dtype):<10} {n_outliers:>10,} {pct_outliers:>7.2f}% {str_lim_inf:>15} {str_lim_sup:>15}\")\n",
    "    \n",
    "    print(\"=\"*92)\n",
    "    print(f\"{'Nota: Límites calculados con método IQR (Q1-1.5*IQR, Q3+1.5*IQR)':^92}\")\n",
    "    print(\"=\"*92)\n",
    "\n",
    "# Generar el reporte\n",
    "generar_reporte_outliers(df, columnas_analizar)"
   ]
  },
  {
   "cell_type": "code",
   "execution_count": 433,
   "id": "ff6bace3",
   "metadata": {},
   "outputs": [
    {
     "name": "stdout",
     "output_type": "stream",
     "text": [
      "\n",
      "ANÁLISIS PARA CLIENT_STAYED = 0\n",
      "----------------------------------------------------------------------------------------------------\n",
      "Columna                Tipo         Outliers        %     L. Inferior     L. Superior\n",
      "----------------------------------------------------------------------------------------------------\n",
      "customer_age           int64               0    0.00%            24.5            68.5\n",
      "dependent_count        int64             199   12.23%             0.5             4.5\n",
      "months_on_book         int64              77    4.73%            20.0            52.0\n",
      "total_relationship_count int64               0    0.00%            -2.5             9.5\n",
      "months_inactive_12_mon int64              66    4.06%             0.5             4.5\n",
      "contacts_count_12_mon  int64               0    0.00%            -1.0             7.0\n",
      "credit_limit           float64           173   10.63%       -9,615.25       21,662.75\n",
      "total_revolving_bal    int64               0    0.00%       -1,955.25        3,258.75\n",
      "total_trans_amt        int64             315   19.36%          600.75        4,074.75\n",
      "total_trans_ct         int64             124    7.62%            16.0            72.0\n",
      "\n",
      "ANÁLISIS PARA CLIENT_STAYED = 1\n",
      "----------------------------------------------------------------------------------------------------\n",
      "Columna                Tipo         Outliers        %     L. Inferior     L. Superior\n",
      "----------------------------------------------------------------------------------------------------\n",
      "customer_age           int64               2    0.02%            24.5            68.5\n",
      "dependent_count        int64               0    0.00%            -2.0             6.0\n",
      "months_on_book         int64             335    3.94%            17.5            53.5\n",
      "total_relationship_count int64               0    0.00%             0.0             8.0\n",
      "months_inactive_12_mon int64               0    0.00%            -2.0             6.0\n",
      "contacts_count_12_mon  int64             509    5.99%             0.5             4.5\n",
      "credit_limit           float64           794    9.34%      -10,374.12       24,228.88\n",
      "total_revolving_bal    int64               0    0.00%          -710.5         3,317.5\n",
      "total_trans_amt        int64             849    9.99%        -1,210.0         8,376.0\n",
      "total_trans_ct         int64              66    0.78%            12.0           124.0\n",
      "====================================================================================================\n"
     ]
    }
   ],
   "source": [
    "def generar_reporte_outliers_por_grupo(df, columnas, grupo_col='client_stayed'):\n",
    "    col_width = 22\n",
    "    type_width = 10\n",
    "    outliers_width = 10\n",
    "    pct_width = 8\n",
    "    limit_width = 15\n",
    "    \n",
    "    for grupo in sorted(df[grupo_col].unique()):\n",
    "        print(f\"\\n{'ANÁLISIS PARA CLIENT_STAYED =':<20} {grupo}\")\n",
    "        print(\"-\"*100)\n",
    "        print(f\"{'Columna':<{col_width}} {'Tipo':<{type_width}} {'Outliers':>{outliers_width}} \"\n",
    "              f\"{'%':>{pct_width}} {'L. Inferior':>{limit_width}} {'L. Superior':>{limit_width}}\")\n",
    "        print(\"-\"*100)\n",
    "        \n",
    "        grupo_df = df[df[grupo_col] == grupo]\n",
    "        \n",
    "        for col in columnas:\n",
    "            # Cálculo de estadísticas para el grupo\n",
    "            Q1 = grupo_df[col].quantile(0.25)\n",
    "            Q3 = grupo_df[col].quantile(0.75)\n",
    "            IQR = Q3 - Q1\n",
    "            lim_inf = Q1 - 1.5 * IQR\n",
    "            lim_sup = Q3 + 1.5 * IQR\n",
    "            \n",
    "            outliers = grupo_df[(grupo_df[col] < lim_inf) | (grupo_df[col] > lim_sup)]\n",
    "            n_outliers = len(outliers)\n",
    "            pct_outliers = (n_outliers/len(grupo_df))*100\n",
    "            \n",
    "            # Formateo inteligente de números\n",
    "            is_float = isinstance(grupo_df[col].iloc[0], float)\n",
    "            fmt_lim = \"{:,.2f}\" if is_float else \"{:,}\"\n",
    "            \n",
    "            # Impresión alineada\n",
    "            print(f\"{col:<{col_width}} {str(grupo_df[col].dtype):<{type_width}} \"\n",
    "                  f\"{n_outliers:>{outliers_width},} {pct_outliers:>{pct_width-1}.2f}% \"\n",
    "                  f\"{fmt_lim.format(lim_inf):>{limit_width}} {fmt_lim.format(lim_sup):>{limit_width}}\")\n",
    "    \n",
    "    print(\"=\"*100)\n",
    "\n",
    "# Uso de la función\n",
    "columnas_analizar = df.select_dtypes(include=['int64', 'float64']).drop(columns=['clientnum', 'client_stayed'], errors='ignore').columns.tolist()\n",
    "generar_reporte_outliers_por_grupo(df, columnas_analizar)"
   ]
  },
  {
   "cell_type": "code",
   "execution_count": 434,
   "id": "c9000945",
   "metadata": {},
   "outputs": [
    {
     "data": {
      "text/plain": [
       "'\\ncolumna = \"customer_age\"\\n\\nQ1 = df[columna].quantile(0.25)\\nQ3 = df[columna].quantile(0.75)\\nIQR = Q3 - Q1\\n\\n\\nlimite_inferior = Q1 - 1.5 * IQR\\nlimite_superior = Q3 + 1.5 * IQR\\n\\n\\noutliers = df[(df[columna] < limite_inferior) | (df[columna] > limite_superior)]\\n\\n\\nprint(\"Número de outliers para customer_age:\", outliers.shape[0])\\n\\ncolumna = \"months_on_book\"\\n\\nQ1 = df[columna].quantile(0.25)\\nQ3 = df[columna].quantile(0.75)\\nIQR = Q3 - Q1\\n\\n\\nlimite_inferior = Q1 - 1.5 * IQR\\nlimite_superior = Q3 + 1.5 * IQR\\n\\n\\noutliers = df[(df[columna] < limite_inferior) | (df[columna] > limite_superior)]\\n\\n\\nprint(\"Número de outliers para months_on_book:\", outliers.shape[0])\\n\\ncolumna = \"months_inactive_12_mon\"\\n\\nQ1 = df[columna].quantile(0.25)\\nQ3 = df[columna].quantile(0.75)\\nIQR = Q3 - Q1\\n\\n\\nlimite_inferior = Q1 - 1.5 * IQR\\nlimite_superior = Q3 + 1.5 * IQR\\n\\n\\noutliers = df[(df[columna] < limite_inferior) | (df[columna] > limite_superior)]\\n\\n\\nprint(\"Número de outliers para months_inactive_12_mon:\", outliers.shape[0])\\n\\ncolumna = \"contacts_count_12_mon\"\\n\\nQ1 = df[columna].quantile(0.25)\\nQ3 = df[columna].quantile(0.75)\\nIQR = Q3 - Q1\\n\\n\\nlimite_inferior = Q1 - 1.5 * IQR\\nlimite_superior = Q3 + 1.5 * IQR\\n\\n\\noutliers = df[(df[columna] < limite_inferior) | (df[columna] > limite_superior)]\\n\\n\\nprint(\"Número de outliers para contacts_count_12_mon:\", outliers.shape[0])\\n\\ncolumna = \"credit_limit\"\\n\\nQ1 = df[columna].quantile(0.25)\\nQ3 = df[columna].quantile(0.75)\\nIQR = Q3 - Q1\\n\\n\\nlimite_inferior = Q1 - 1.5 * IQR\\nlimite_superior = Q3 + 1.5 * IQR\\n\\n\\noutliers = df[(df[columna] < limite_inferior) | (df[columna] > limite_superior)]\\n\\n\\nprint(\"Número de outliers para credit_limit:\", outliers.shape[0])\\n\\ncolumna = \"total_trans_amt\"\\n\\nQ1 = df[columna].quantile(0.25)\\nQ3 = df[columna].quantile(0.75)\\nIQR = Q3 - Q1\\n\\n\\nlimite_inferior = Q1 - 1.5 * IQR\\nlimite_superior = Q3 + 1.5 * IQR\\n\\n\\noutliers = df[(df[columna] < limite_inferior) | (df[columna] > limite_superior)]\\n\\n\\nprint(\"Número de outliers para total_trans_amt:\", outliers.shape[0])\\n\\ncolumna = \"total_trans_ct\"\\n\\nQ1 = df[columna].quantile(0.25)\\nQ3 = df[columna].quantile(0.75)\\nIQR = Q3 - Q1\\n\\n\\nlimite_inferior = Q1 - 1.5 * IQR\\nlimite_superior = Q3 + 1.5 * IQR\\n\\n\\noutliers = df[(df[columna] < limite_inferior) | (df[columna] > limite_superior)]\\n\\n\\nprint(\"Número de outliers para total_trans_ct:\", outliers.shape[0])\\n\\ndf.dtypes\\n'"
      ]
     },
     "execution_count": 434,
     "metadata": {},
     "output_type": "execute_result"
    }
   ],
   "source": [
    "\"\"\"\n",
    "columna = \"customer_age\"\n",
    "\n",
    "Q1 = df[columna].quantile(0.25)\n",
    "Q3 = df[columna].quantile(0.75)\n",
    "IQR = Q3 - Q1\n",
    "\n",
    "\n",
    "limite_inferior = Q1 - 1.5 * IQR\n",
    "limite_superior = Q3 + 1.5 * IQR\n",
    "\n",
    "\n",
    "outliers = df[(df[columna] < limite_inferior) | (df[columna] > limite_superior)]\n",
    "\n",
    "\n",
    "print(\"Número de outliers para customer_age:\", outliers.shape[0])\n",
    "\n",
    "columna = \"months_on_book\"\n",
    "\n",
    "Q1 = df[columna].quantile(0.25)\n",
    "Q3 = df[columna].quantile(0.75)\n",
    "IQR = Q3 - Q1\n",
    "\n",
    "\n",
    "limite_inferior = Q1 - 1.5 * IQR\n",
    "limite_superior = Q3 + 1.5 * IQR\n",
    "\n",
    "\n",
    "outliers = df[(df[columna] < limite_inferior) | (df[columna] > limite_superior)]\n",
    "\n",
    "\n",
    "print(\"Número de outliers para months_on_book:\", outliers.shape[0])\n",
    "\n",
    "columna = \"months_inactive_12_mon\"\n",
    "\n",
    "Q1 = df[columna].quantile(0.25)\n",
    "Q3 = df[columna].quantile(0.75)\n",
    "IQR = Q3 - Q1\n",
    "\n",
    "\n",
    "limite_inferior = Q1 - 1.5 * IQR\n",
    "limite_superior = Q3 + 1.5 * IQR\n",
    "\n",
    "\n",
    "outliers = df[(df[columna] < limite_inferior) | (df[columna] > limite_superior)]\n",
    "\n",
    "\n",
    "print(\"Número de outliers para months_inactive_12_mon:\", outliers.shape[0])\n",
    "\n",
    "columna = \"contacts_count_12_mon\"\n",
    "\n",
    "Q1 = df[columna].quantile(0.25)\n",
    "Q3 = df[columna].quantile(0.75)\n",
    "IQR = Q3 - Q1\n",
    "\n",
    "\n",
    "limite_inferior = Q1 - 1.5 * IQR\n",
    "limite_superior = Q3 + 1.5 * IQR\n",
    "\n",
    "\n",
    "outliers = df[(df[columna] < limite_inferior) | (df[columna] > limite_superior)]\n",
    "\n",
    "\n",
    "print(\"Número de outliers para contacts_count_12_mon:\", outliers.shape[0])\n",
    "\n",
    "columna = \"credit_limit\"\n",
    "\n",
    "Q1 = df[columna].quantile(0.25)\n",
    "Q3 = df[columna].quantile(0.75)\n",
    "IQR = Q3 - Q1\n",
    "\n",
    "\n",
    "limite_inferior = Q1 - 1.5 * IQR\n",
    "limite_superior = Q3 + 1.5 * IQR\n",
    "\n",
    "\n",
    "outliers = df[(df[columna] < limite_inferior) | (df[columna] > limite_superior)]\n",
    "\n",
    "\n",
    "print(\"Número de outliers para credit_limit:\", outliers.shape[0])\n",
    "\n",
    "columna = \"total_trans_amt\"\n",
    "\n",
    "Q1 = df[columna].quantile(0.25)\n",
    "Q3 = df[columna].quantile(0.75)\n",
    "IQR = Q3 - Q1\n",
    "\n",
    "\n",
    "limite_inferior = Q1 - 1.5 * IQR\n",
    "limite_superior = Q3 + 1.5 * IQR\n",
    "\n",
    "\n",
    "outliers = df[(df[columna] < limite_inferior) | (df[columna] > limite_superior)]\n",
    "\n",
    "\n",
    "print(\"Número de outliers para total_trans_amt:\", outliers.shape[0])\n",
    "\n",
    "columna = \"total_trans_ct\"\n",
    "\n",
    "Q1 = df[columna].quantile(0.25)\n",
    "Q3 = df[columna].quantile(0.75)\n",
    "IQR = Q3 - Q1\n",
    "\n",
    "\n",
    "limite_inferior = Q1 - 1.5 * IQR\n",
    "limite_superior = Q3 + 1.5 * IQR\n",
    "\n",
    "\n",
    "outliers = df[(df[columna] < limite_inferior) | (df[columna] > limite_superior)]\n",
    "\n",
    "\n",
    "print(\"Número de outliers para total_trans_ct:\", outliers.shape[0])\n",
    "\n",
    "df.dtypes\n",
    "\"\"\""
   ]
  },
  {
   "cell_type": "code",
   "execution_count": null,
   "id": "3efe4a87",
   "metadata": {},
   "outputs": [],
   "source": [
    "df['credit_limit'] = df['credit_limit'].astype(int)\n",
    "columnas_a_tratar = ['months_on_book','total_trans_amt','total_trans_ct','credit_limit']\n",
    "\n",
    "for valor_stayed in [0, 1]:\n",
    "    df_grupo = df[df['client_stayed'] == valor_stayed]\n",
    "    \n",
    "    for columna in columnas_a_tratar:\n",
    "        Q1 = df_grupo[columna].quantile(0.25)\n",
    "        Q3 = df_grupo[columna].quantile(0.75)\n",
    "        IQR = Q3 - Q1\n",
    "        \n",
    "        limite_inferior = Q1 - 3 * IQR\n",
    "        limite_superior = Q3 + 3 * IQR\n",
    "        \n",
    "        moda = df_grupo[columna].mode()[0]\n",
    "        \n",
    "        mascara = (df['client_stayed'] == valor_stayed) & ((df[columna] < limite_inferior) | (df[columna] > limite_superior))\n",
    "        df.loc[mascara, columna] = moda\n",
    "\n",
    "\n"
   ]
  },
  {
   "cell_type": "code",
   "execution_count": 437,
   "id": "08d28210",
   "metadata": {},
   "outputs": [
    {
     "name": "stdout",
     "output_type": "stream",
     "text": [
      "Valores únicos después de reemplazo: [ 42.  33.  20.  28.  24.  31.  36.  32.  26.  17.  29.  27.  21.  30.\n",
      "  16.  18.  23.  22.  40.  38.  25.  43.  37.  19.  35.  15.  41.  57.\n",
      "  12.  14.  34.  44.  13.  47.  10.  39.  53.  50.  52.  48.  49.  45.\n",
      "  11.  55.  46.  54.  60.  51.  63.  58.  59.  61.  78.  64.  65.  62.\n",
      "  67.  66.  56.  69.  71.  75.  74.  76.  84.  82.  88.  68.  70.  73.\n",
      "  86.  72.  79.  80.  85.  81.  87.  83.  91.  89.  77. 103.  93.  96.\n",
      "  99.  92.  90.  94.  95.  98. 100. 102.  97. 101. 104. 105. 106. 107.\n",
      " 109. 118. 108. 122. 113. 112. 111. 127. 114. 124. 110. 120. 125. 121.\n",
      " 117. 126. 134. 116. 119. 129. 131. 115. 128. 139. 123. 130. 138. 132.]\n",
      "¿Quedan outliers? False\n"
     ]
    }
   ],
   "source": [
    "\n",
    "# Verificación\n",
    "\n",
    "columnas_numericas = ['customer_age', 'months_on_book', 'credit_limit','total_trans_amt','total_trans_ct']\n",
    "\n",
    "for columna in columnas_numericas:\n",
    "    # Calcular Q1, Q3 e IQR\n",
    "    Q1 = df[columna].quantile(0.25)\n",
    "    Q3 = df[columna].quantile(0.75)\n",
    "    IQR = Q3 - Q1\n",
    "    \n",
    "    # Límites para atípicos\n",
    "    limite_inferior = Q1 - 3 * IQR\n",
    "    limite_superior = Q3 + 3 * IQR\n",
    "    \n",
    "    valor_reemplazo = df[columna].median()  # Mediana es 12.5 en este caso\n",
    "    df[columna] = np.where(\n",
    "        df[columna] > limite_superior,\n",
    "        valor_reemplazo,\n",
    "    df[columna]\n",
    ")\n",
    "\n",
    "print(\"Valores únicos después de reemplazo:\", df[columna].unique())\n",
    "print(\"¿Quedan outliers?\", any(df[columna] > limite_superior))   \n"
   ]
  },
  {
   "cell_type": "code",
   "execution_count": 438,
   "id": "3d305c76",
   "metadata": {},
   "outputs": [
    {
     "data": {
      "image/png": "[encoded data removed]",
      "text/plain": [
       "<Figure size 800x200 with 1 Axes>"
      ]
     },
     "metadata": {},
     "output_type": "display_data"
    },
    {
     "data": {
      "image/png": "[encoded data removed]",
      "text/plain": [
       "<Figure size 800x200 with 1 Axes>"
      ]
     },
     "metadata": {},
     "output_type": "display_data"
    },
    {
     "data": {
      "image/png": "[encoded data removed]",
      "text/plain": [
       "<Figure size 800x200 with 1 Axes>"
      ]
     },
     "metadata": {},
     "output_type": "display_data"
    }
   ],
   "source": [
    "for col in columnas_a_tratar:\n",
    "    if df[col].dtype == 'int64' or df[col].dtype == 'float64':\n",
    "        plt.figure(figsize=(8, 2))\n",
    "        sns.boxplot(x=df[col])\n",
    "        plt.title(f'Boxplot de {col}')\n",
    "        plt.xlabel(f'{col}')\n",
    "        plt.show()\n",
    "    else:\n",
    "        continue"
   ]
  },
  {
   "cell_type": "code",
   "execution_count": 439,
   "id": "4b98b7c5",
   "metadata": {},
   "outputs": [
    {
     "data": {
      "image/png": "[encoded data removed]",
      "text/plain": [
       "<Figure size 700x300 with 1 Axes>"
      ]
     },
     "metadata": {},
     "output_type": "display_data"
    },
    {
     "data": {
      "image/png": "[encoded data removed]",
      "text/plain": [
       "<Figure size 700x300 with 1 Axes>"
      ]
     },
     "metadata": {},
     "output_type": "display_data"
    },
    {
     "data": {
      "image/png": "[encoded data removed]",
      "text/plain": [
       "<Figure size 700x300 with 1 Axes>"
      ]
     },
     "metadata": {},
     "output_type": "display_data"
    }
   ],
   "source": [
    "for column in columnas_a_tratar:\n",
    "    if column != 'client_stayed': \n",
    "        plt.figure(figsize=(7, 3))\n",
    "        sns.histplot(\n",
    "            data=df,\n",
    "            x=column,\n",
    "            hue='client_stayed',\n",
    "            multiple='layer',  \n",
    "            # kde=True,         \n",
    "            alpha=0.6,        \n",
    "            shrink=0.9,\n",
    "            edgecolor='none',\n",
    "        )\n",
    "        plt.title(f'Hist {column} por client_stayed', fontsize=12)\n",
    "        plt.xlabel(column, fontsize=10)\n",
    "        plt.ylabel('Count', fontsize=10)\n",
    "        plt.legend(title='client_stayed', labels=['No (0)', 'Sí (1)'], fontsize=8)\n",
    "        plt.show()"
   ]
  },
  {
   "cell_type": "code",
   "execution_count": 440,
   "id": "99a80080",
   "metadata": {},
   "outputs": [
    {
     "name": "stdout",
     "output_type": "stream",
     "text": [
      "                        mean  median          std      mode\n",
      "total_trans_ct     64.853659    67.0    23.471789    [81.0]\n",
      "total_trans_amt  3488.107732  3779.0  1598.919105  [4253.0]\n",
      "months_on_book     35.928409    36.0     7.986416    [36.0]\n"
     ]
    }
   ],
   "source": [
    "columnas_a_tratar = ['total_trans_ct', 'total_trans_amt', 'months_on_book']\n",
    "\n",
    "# Diccionario para guardar los resultados\n",
    "resultados = {}\n",
    "\n",
    "for columna in columnas_a_tratar:\n",
    "    resultados[columna] = {\n",
    "        'mean': df[columna].mean(),\n",
    "        'median': df[columna].median(),\n",
    "        'std': df[columna].std(),\n",
    "        'mode': df[columna].mode().tolist()  # Convertir a lista por si hay múltiples modas\n",
    "    }\n",
    "\n",
    "# Convertir el diccionario a DataFrame para mejor visualización\n",
    "df_resultados = pd.DataFrame(resultados).T  # Transponer para que las columnas sean las métricas\n",
    "print(df_resultados)\n"
   ]
  },
  {
   "cell_type": "code",
   "execution_count": 441,
   "id": "de36d76b",
   "metadata": {},
   "outputs": [
    {
     "name": "stdout",
     "output_type": "stream",
     "text": [
      "\n",
      "============================================================================================\n",
      "                          REPORTE DE OUTLIERS - ANÁLISIS COMPLETO                           \n",
      "============================================================================================\n",
      "Columna                   Tipo         Outliers        %     L. Inferior     L. Superior\n",
      "--------------------------------------------------------------------------------------------\n",
      "total_trans_ct            float64             2    0.02%           -9.00          135.00\n",
      "total_trans_amt           float64           220    2.17%       -1,376.50        7,915.50\n",
      "months_on_book            float64           386    3.81%           17.50           53.50\n",
      "============================================================================================\n",
      "              Nota: Límites calculados con método IQR (Q1-1.5*IQR, Q3+1.5*IQR)              \n",
      "============================================================================================\n"
     ]
    }
   ],
   "source": [
    "columnas_analizar = ['total_trans_ct', 'total_trans_amt', 'months_on_book']\n",
    "\n",
    "def generar_reporte_outliers(df, columnas):\n",
    "    # Cabecera del reporte\n",
    "    print(\"\\n\" + \"=\"*92)\n",
    "    print(f\"{'REPORTE DE OUTLIERS - ANÁLISIS COMPLETO':^92}\")\n",
    "    print(\"=\"*92)\n",
    "    print(f\"{'Columna':<25} {'Tipo':<10} {'Outliers':>10} {'%':>8} {'L. Inferior':>15} {'L. Superior':>15}\")\n",
    "    print(\"-\"*92)\n",
    "    \n",
    "    for col in columnas:\n",
    "        # Cálculo de estadísticas\n",
    "        Q1 = df[col].quantile(0.25)\n",
    "        Q3 = df[col].quantile(0.75)\n",
    "        IQR = Q3 - Q1\n",
    "        lim_inf = Q1 - 1.5 * IQR\n",
    "        lim_sup = Q3 + 1.5 * IQR\n",
    "        outliers = df[(df[col] < lim_inf) | (df[col] > lim_sup)]\n",
    "        n_outliers = len(outliers)\n",
    "        pct_outliers = (n_outliers/len(df))*100\n",
    "        \n",
    "        # Formateo de números\n",
    "        str_lim_inf = f\"{lim_inf:,.2f}\" if isinstance(lim_inf, float) else f\"{int(lim_inf):,}\"\n",
    "        str_lim_sup = f\"{lim_sup:,.2f}\" if isinstance(lim_sup, float) else f\"{int(lim_sup):,}\"\n",
    "        \n",
    "        # Impresión formateada\n",
    "        print(f\"{col:<25} {str(df[col].dtype):<10} {n_outliers:>10,} {pct_outliers:>7.2f}% {str_lim_inf:>15} {str_lim_sup:>15}\")\n",
    "    \n",
    "    print(\"=\"*92)\n",
    "    print(f\"{'Nota: Límites calculados con método IQR (Q1-1.5*IQR, Q3+1.5*IQR)':^92}\")\n",
    "    print(\"=\"*92)\n",
    "\n",
    "# Generar el reporte\n",
    "generar_reporte_outliers(df, columnas_analizar)"
   ]
  },
  {
   "cell_type": "code",
   "execution_count": 442,
   "id": "3c9ca1dd",
   "metadata": {},
   "outputs": [],
   "source": [
    "columnas_numericas = ['months_on_book','total_trans_amt','total_trans_ct']\n",
    "\n",
    "for columna in columnas_numericas:\n",
    "    # Calcular Q1, Q3 e IQR\n",
    "    Q1 = df[columna].quantile(0.25)\n",
    "    Q3 = df[columna].quantile(0.75)\n",
    "    IQR = Q3 - Q1\n",
    "    \n",
    "    # Límites para atípicos\n",
    "    limite_inferior = Q1 - 1.5 * IQR\n",
    "    limite_superior = Q3 + 1.5 * IQR\n",
    "    \n",
    "    # Calcular la moda (el más frecuente)\n",
    "    moda = df[columna].mode()[0]\n",
    "    \n",
    "    # Reemplazar atípicos con la moda\n",
    "    df[columna] = np.where(\n",
    "        (df[columna] < limite_inferior) | (df[columna] > limite_superior),\n",
    "        moda,\n",
    "        df[columna]\n",
    "    )\n"
   ]
  },
  {
   "cell_type": "code",
   "execution_count": 443,
   "id": "3b550a3d",
   "metadata": {},
   "outputs": [
    {
     "data": {
      "text/plain": [
       "'\\nQ1 = df[\\'credit_limit\\'].quantile(0.25)\\nQ3 = df[\\'credit_limit\\'].quantile(0.75)\\nIQR = Q3 - Q1\\nlimite_superior = Q3 + 3 * IQR  # Aumentamos el límite\\n\\n# Paso 2: Reemplazar por la MEDIANA (evita usar moda si es outlier)\\nvalor_reemplazo = df[\\'credit_limit\\'].median()  # Mediana es 12.5 en este caso\\ndf[\\'credit_limit\\'] = np.where(\\n    df[\\'credit_limit\\'] > limite_superior,\\n    valor_reemplazo,\\n    df[\\'credit_limit\\']\\n)\\n\\n# Verificación\\nprint(\"Valores únicos después de reemplazo:\", df[\\'credit_limit\\'].unique())\\nprint(\"¿Quedan outliers?\", any(df[\\'credit_limit\\'] > limite_superior))\\n'"
      ]
     },
     "execution_count": 443,
     "metadata": {},
     "output_type": "execute_result"
    }
   ],
   "source": [
    "\"\"\"\n",
    "Q1 = df['credit_limit'].quantile(0.25)\n",
    "Q3 = df['credit_limit'].quantile(0.75)\n",
    "IQR = Q3 - Q1\n",
    "limite_superior = Q3 + 3 * IQR  # Aumentamos el límite\n",
    "\n",
    "# Paso 2: Reemplazar por la MEDIANA (evita usar moda si es outlier)\n",
    "valor_reemplazo = df['credit_limit'].median()  # Mediana es 12.5 en este caso\n",
    "df['credit_limit'] = np.where(\n",
    "    df['credit_limit'] > limite_superior,\n",
    "    valor_reemplazo,\n",
    "    df['credit_limit']\n",
    ")\n",
    "\n",
    "# Verificación\n",
    "print(\"Valores únicos después de reemplazo:\", df['credit_limit'].unique())\n",
    "print(\"¿Quedan outliers?\", any(df['credit_limit'] > limite_superior))\n",
    "\"\"\""
   ]
  },
  {
   "cell_type": "code",
   "execution_count": 444,
   "id": "75d7411d",
   "metadata": {},
   "outputs": [
    {
     "data": {
      "text/plain": [
       "'\\ncolumna = \"customer_age\"\\n\\nQ1 = df[columna].quantile(0.25)\\nQ3 = df[columna].quantile(0.75)\\nIQR = Q3 - Q1\\n\\n\\nlimite_inferior = Q1 - 1.5 * IQR\\nlimite_superior = Q3 + 1.5 * IQR\\n\\n\\noutliers = df[(df[columna] < limite_inferior) | (df[columna] > limite_superior)]\\n\\n\\nprint(\"Número de outliers para customer_age:\", outliers.shape[0])\\n\\ncolumna = \"months_on_book\"\\n\\nQ1 = df[columna].quantile(0.25)\\nQ3 = df[columna].quantile(0.75)\\nIQR = Q3 - Q1\\n\\n\\nlimite_inferior = Q1 - 1.5 * IQR\\nlimite_superior = Q3 + 1.5 * IQR\\n\\n\\noutliers = df[(df[columna] < limite_inferior) | (df[columna] > limite_superior)]\\n\\n\\nprint(\"Número de outliers para months_on_book:\", outliers.shape[0])\\n\\n\\ncolumna = \"credit_limit\"\\n\\nQ1 = df[columna].quantile(0.25)\\nQ3 = df[columna].quantile(0.75)\\nIQR = Q3 - Q1\\n\\n\\nlimite_inferior = Q1 - 1.5 * IQR\\nlimite_superior = Q3 + 1.5 * IQR\\n\\n\\noutliers = df[(df[columna] < limite_inferior) | (df[columna] > limite_superior)]\\n\\n\\nprint(\"Número de outliers para credit_limit:\", outliers.shape[0])\\n\\ncolumna = \"total_trans_amt\"\\n\\nQ1 = df[columna].quantile(0.25)\\nQ3 = df[columna].quantile(0.75)\\nIQR = Q3 - Q1\\n\\n\\nlimite_inferior = Q1 - 1.5 * IQR\\nlimite_superior = Q3 + 1.5 * IQR\\n\\n\\noutliers = df[(df[columna] < limite_inferior) | (df[columna] > limite_superior)]\\n\\n\\nprint(\"Número de outliers para total_trans_amt:\", outliers.shape[0])\\n\\ncolumna = \"total_trans_ct\"\\n\\nQ1 = df[columna].quantile(0.25)\\nQ3 = df[columna].quantile(0.75)\\nIQR = Q3 - Q1\\n\\n\\nlimite_inferior = Q1 - 1.5 * IQR\\nlimite_superior = Q3 + 1.5 * IQR\\n\\n\\noutliers = df[(df[columna] < limite_inferior) | (df[columna] > limite_superior)]\\n\\n\\nprint(\"Número de outliers para total_trans_ct:\", outliers.shape[0])\\n'"
      ]
     },
     "execution_count": 444,
     "metadata": {},
     "output_type": "execute_result"
    }
   ],
   "source": [
    "\n",
    "\"\"\"\n",
    "columna = \"customer_age\"\n",
    "\n",
    "Q1 = df[columna].quantile(0.25)\n",
    "Q3 = df[columna].quantile(0.75)\n",
    "IQR = Q3 - Q1\n",
    "\n",
    "\n",
    "limite_inferior = Q1 - 1.5 * IQR\n",
    "limite_superior = Q3 + 1.5 * IQR\n",
    "\n",
    "\n",
    "outliers = df[(df[columna] < limite_inferior) | (df[columna] > limite_superior)]\n",
    "\n",
    "\n",
    "print(\"Número de outliers para customer_age:\", outliers.shape[0])\n",
    "\n",
    "columna = \"months_on_book\"\n",
    "\n",
    "Q1 = df[columna].quantile(0.25)\n",
    "Q3 = df[columna].quantile(0.75)\n",
    "IQR = Q3 - Q1\n",
    "\n",
    "\n",
    "limite_inferior = Q1 - 1.5 * IQR\n",
    "limite_superior = Q3 + 1.5 * IQR\n",
    "\n",
    "\n",
    "outliers = df[(df[columna] < limite_inferior) | (df[columna] > limite_superior)]\n",
    "\n",
    "\n",
    "print(\"Número de outliers para months_on_book:\", outliers.shape[0])\n",
    "\n",
    "\n",
    "columna = \"credit_limit\"\n",
    "\n",
    "Q1 = df[columna].quantile(0.25)\n",
    "Q3 = df[columna].quantile(0.75)\n",
    "IQR = Q3 - Q1\n",
    "\n",
    "\n",
    "limite_inferior = Q1 - 1.5 * IQR\n",
    "limite_superior = Q3 + 1.5 * IQR\n",
    "\n",
    "\n",
    "outliers = df[(df[columna] < limite_inferior) | (df[columna] > limite_superior)]\n",
    "\n",
    "\n",
    "print(\"Número de outliers para credit_limit:\", outliers.shape[0])\n",
    "\n",
    "columna = \"total_trans_amt\"\n",
    "\n",
    "Q1 = df[columna].quantile(0.25)\n",
    "Q3 = df[columna].quantile(0.75)\n",
    "IQR = Q3 - Q1\n",
    "\n",
    "\n",
    "limite_inferior = Q1 - 1.5 * IQR\n",
    "limite_superior = Q3 + 1.5 * IQR\n",
    "\n",
    "\n",
    "outliers = df[(df[columna] < limite_inferior) | (df[columna] > limite_superior)]\n",
    "\n",
    "\n",
    "print(\"Número de outliers para total_trans_amt:\", outliers.shape[0])\n",
    "\n",
    "columna = \"total_trans_ct\"\n",
    "\n",
    "Q1 = df[columna].quantile(0.25)\n",
    "Q3 = df[columna].quantile(0.75)\n",
    "IQR = Q3 - Q1\n",
    "\n",
    "\n",
    "limite_inferior = Q1 - 1.5 * IQR\n",
    "limite_superior = Q3 + 1.5 * IQR\n",
    "\n",
    "\n",
    "outliers = df[(df[columna] < limite_inferior) | (df[columna] > limite_superior)]\n",
    "\n",
    "\n",
    "print(\"Número de outliers para total_trans_ct:\", outliers.shape[0])\n",
    "\"\"\""
   ]
  },
  {
   "cell_type": "code",
   "execution_count": 445,
   "id": "f9327f22",
   "metadata": {},
   "outputs": [
    {
     "name": "stdout",
     "output_type": "stream",
     "text": [
      "                        mean  median          std      mode\n",
      "total_trans_ct     64.842303    67.0    23.450051    [81.0]\n",
      "total_trans_amt  3397.931273  3779.0  1425.842894  [4253.0]\n",
      "months_on_book     35.946677    36.0     6.934324    [36.0]\n"
     ]
    }
   ],
   "source": [
    "columnas_a_tratar = ['total_trans_ct', 'total_trans_amt', 'months_on_book']\n",
    "\n",
    "# Diccionario para guardar los resultados\n",
    "resultados = {}\n",
    "\n",
    "for columna in columnas_a_tratar:\n",
    "    resultados[columna] = {\n",
    "        'mean': df[columna].mean(),\n",
    "        'median': df[columna].median(),\n",
    "        'std': df[columna].std(),\n",
    "        'mode': df[columna].mode().tolist()  # Convertir a lista por si hay múltiples modas\n",
    "    }\n",
    "\n",
    "# Convertir el diccionario a DataFrame para mejor visualización\n",
    "df_resultados = pd.DataFrame(resultados).T  # Transponer para que las columnas sean las métricas\n",
    "print(df_resultados)\n"
   ]
  }
 ],
 "metadata": {
  "kernelspec": {
   "display_name": "DataScience",
   "language": "python",
   "name": "python3"
  },
  "language_info": {
   "codemirror_mode": {
    "name": "ipython",
    "version": 3
   },
   "file_extension": ".py",
   "mimetype": "text/x-python",
   "name": "python",
   "nbconvert_exporter": "python",
   "pygments_lexer": "ipython3",
   "version": "3.12.3"
  }
 },
 "nbformat": 4,
 "nbformat_minor": 5
}
